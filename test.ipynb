{
 "cells": [
  {
   "cell_type": "code",
   "execution_count": 2,
   "metadata": {},
   "outputs": [
    {
     "name": "stdout",
     "output_type": "stream",
     "text": [
      "四元数:\n",
      "x: 0.5\n",
      "y: 0.5\n",
      "z: -0.4999999999999999\n",
      "w: 0.5000000000000001\n"
     ]
    }
   ],
   "source": [
    "import math\n",
    "from geometry_msgs.msg import Pose\n",
    "from tf_transformations import quaternion_from_euler\n",
    "\n",
    "def euler_to_quaternion(roll_deg, pitch_deg, yaw_deg):\n",
    "    \"\"\"\n",
    "    将欧拉角（度）转换为四元数。\n",
    "    \n",
    "    :param roll_deg: 滚转角（度）\n",
    "    :param pitch_deg: 俯仰角（度）\n",
    "    :param yaw_deg: 偏航角（度）\n",
    "    :return: 四元数 (x, y, z, w)\n",
    "    \"\"\"\n",
    "    # 将角度转换为弧度\n",
    "    roll = math.radians(roll_deg)\n",
    "    pitch = math.radians(pitch_deg)\n",
    "    yaw = math.radians(yaw_deg)\n",
    "    \n",
    "    # 使用 tf_transformations 库将欧拉角转换为四元数\n",
    "    q = quaternion_from_euler(roll, pitch, yaw)\n",
    "    \n",
    "    return q  # 返回四元数 (x, y, z, w)\n",
    "\n",
    "def main():\n",
    "    # 示例欧拉角（以度为单位）\n",
    "    roll_deg = 90.0   # 滚转角\n",
    "    pitch_deg = 90.0  # 俯仰角\n",
    "    yaw_deg = 0.0    # 偏航角\n",
    "    \n",
    "    # 转换为四元数\n",
    "    quaternion = euler_to_quaternion(roll_deg, pitch_deg, yaw_deg)\n",
    "    \n",
    "    # 创建一个 Pose 消息并赋值\n",
    "    target_pose = Pose()\n",
    "    target_pose.orientation.x = quaternion[0]\n",
    "    target_pose.orientation.y = quaternion[1]\n",
    "    target_pose.orientation.z = quaternion[2]\n",
    "    target_pose.orientation.w = quaternion[3]\n",
    "    \n",
    "    # 打印结果\n",
    "    print(\"四元数:\")\n",
    "    print(f\"x: {target_pose.orientation.x}\")\n",
    "    print(f\"y: {target_pose.orientation.y}\")\n",
    "    print(f\"z: {target_pose.orientation.z}\")\n",
    "    print(f\"w: {target_pose.orientation.w}\")\n",
    "\n",
    "if __name__ == \"__main__\":\n",
    "    main()\n"
   ]
  },
  {
   "cell_type": "code",
   "execution_count": 5,
   "metadata": {},
   "outputs": [
    {
     "name": "stdout",
     "output_type": "stream",
     "text": [
      "75.4802606087377\n",
      "0.1862 0.7189599999999999\n"
     ]
    }
   ],
   "source": [
    "# 输入xy位置获取 roll_deg, pitch_deg, yaw_deg\n",
    "y = 0.946\n",
    "x = 0.245\n",
    "yaw = math.atan(y/x)\n",
    "print(yaw/3.1415926*180)\n",
    "print(x*0.76, y*0.76)"
   ]
  },
  {
   "cell_type": "code",
   "execution_count": 9,
   "metadata": {},
   "outputs": [
    {
     "name": "stdout",
     "output_type": "stream",
     "text": [
      "['-0.4538', '-0.6283', '-2.4958', '0.0000', '-1.5882', '1.1170']\n"
     ]
    }
   ],
   "source": [
    "# 输入 关节角的度数，得到弧度值  egp64的位置\n",
    "\n",
    "joint = [-26, -36, -143, 0, -91, 64 ]\n",
    "rad = []\n",
    "for i in range(len(joint)):\n",
    "    rad_value = joint[i]*3.1415926/180\n",
    "    rad.append(format(rad_value, \".4f\"))\n",
    "print(rad)"
   ]
  },
  {
   "cell_type": "markdown",
   "metadata": {},
   "source": [
    "### 移动到egp6的4位置\n",
    "\n",
    "    {\n",
    "      \"action_name\": \"move_arm_joint\",\n",
    "      \"parameters\": {\n",
    "        \"joints_value\": {\n",
    "          \"type\": \"JointPathParameter\",\n",
    "          \"joint_0\": -0.4538,\n",
    "          \"joint_1\": -0.6283,\n",
    "          \"joint_2\": -2.4958,\n",
    "          \"joint_3\": 0.0,\n",
    "          \"joint_4\": -1.5882,\n",
    "          \"joint_5\": 1.1170\n",
    "        },\n",
    "        \"constrain\": {\n",
    "          \"type\": \"ConstrainParameter\",\n",
    "          \"is_constrain\": false,\n",
    "          \"x_axis_tolerance\": 0.1,\n",
    "          \"y_axis_tolerance\": 0.1,\n",
    "          \"z_axis_tolerance\": 0.1\n",
    "        }\n",
    "      }\n",
    "    }"
   ]
  },
  {
   "cell_type": "code",
   "execution_count": 10,
   "metadata": {},
   "outputs": [
    {
     "name": "stdout",
     "output_type": "stream",
     "text": [
      "['-0.1745', '-0.5061', '-2.6878', '0.0000', '-1.5184', '1.3963']\n"
     ]
    }
   ],
   "source": [
    "# 输入 关节角的度数，得到弧度值  egp64的位置\n",
    "\n",
    "joint = [-10 ,-29, -154, 0, -87, 80 ]\n",
    "rad = []\n",
    "for i in range(len(joint)):\n",
    "    rad_value = joint[i]*3.1415926/180\n",
    "    rad.append(format(rad_value, \".4f\"))\n",
    "print(rad)"
   ]
  },
  {
   "cell_type": "markdown",
   "metadata": {},
   "source": [
    "### 移动到pipettle的位置    \n",
    "\n",
    "    {\n",
    "      \"action_name\": \"move_arm_joint\",\n",
    "      \"parameters\": {\n",
    "        \"joints_value\": {\n",
    "          \"type\": \"JointPathParameter\",\n",
    "          \"joint_0\": -0.175,\n",
    "          \"joint_1\": -0.5061,\n",
    "          \"joint_2\": -2.6878,\n",
    "          \"joint_3\": 0.0,\n",
    "          \"joint_4\": -1.5184,\n",
    "          \"joint_5\": 1.3963\n",
    "        },\n",
    "        \"constrain\": {\n",
    "          \"type\": \"ConstrainParameter\",\n",
    "          \"is_constrain\": false,\n",
    "          \"x_axis_tolerance\": 0.1,\n",
    "          \"y_axis_tolerance\": 0.1,\n",
    "          \"z_axis_tolerance\": 0.1\n",
    "        }\n",
    "      }\n",
    "    }"
   ]
  },
  {
   "cell_type": "code",
   "execution_count": 1,
   "metadata": {},
   "outputs": [
    {
     "name": "stdout",
     "output_type": "stream",
     "text": [
      "['-0.6109', '-0.2094', '-2.7576', '0.0000', '-1.7453', '0.9599']\n"
     ]
    }
   ],
   "source": [
    "# 输入 关节角的度数，得到弧度值  放回egp64的位置\n",
    "\n",
    "joint = [-35 ,-12, -158, 0, -100, 55 ]\n",
    "rad = []\n",
    "for i in range(len(joint)):\n",
    "    rad_value = joint[i]*3.1415926/180\n",
    "    rad.append(format(rad_value, \".4f\"))\n",
    "print(rad)"
   ]
  },
  {
   "cell_type": "code",
   "execution_count": 8,
   "metadata": {},
   "outputs": [
    {
     "name": "stdout",
     "output_type": "stream",
     "text": [
      "['1.3265', '0.8029', '0.2269', '-3.1241', '1.0297', '1.5533']\n"
     ]
    }
   ],
   "source": [
    "# 输入 关节角的度数，得到弧度值  到达瓶子的位置\n",
    "\n",
    "joint = [76 , 46, 13, -179, 59, 89 ]\n",
    "rad = []\n",
    "for i in range(len(joint)):\n",
    "    rad_value = joint[i]*3.1415926/180\n",
    "    rad.append(format(rad_value, \".4f\"))\n",
    "print(rad)"
   ]
  },
  {
   "cell_type": "code",
   "execution_count": 5,
   "metadata": {},
   "outputs": [
    {
     "name": "stdout",
     "output_type": "stream",
     "text": [
      "['0.0087', '0.7156', '0.5236', '-3.1416', '1.2566', '1.5708']\n"
     ]
    }
   ],
   "source": [
    "# 输入 关节角的度数，得到弧度值  到达开瓶器的位置\n",
    "\n",
    "joint = [0.5 ,41, 30, -180, 72, 90 ]\n",
    "rad = []\n",
    "for i in range(len(joint)):\n",
    "    rad_value = joint[i]*3.1415926/180\n",
    "    rad.append(format(rad_value, \".4f\"))\n",
    "print(rad)"
   ]
  },
  {
   "cell_type": "code",
   "execution_count": null,
   "metadata": {},
   "outputs": [],
   "source": []
  }
 ],
 "metadata": {
  "kernelspec": {
   "display_name": "Python 3",
   "language": "python",
   "name": "python3"
  },
  "language_info": {
   "codemirror_mode": {
    "name": "ipython",
    "version": 3
   },
   "file_extension": ".py",
   "mimetype": "text/x-python",
   "name": "python",
   "nbconvert_exporter": "python",
   "pygments_lexer": "ipython3",
   "version": "3.10.12"
  }
 },
 "nbformat": 4,
 "nbformat_minor": 2
}
