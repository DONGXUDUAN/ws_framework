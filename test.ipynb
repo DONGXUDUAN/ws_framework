{
 "cells": [
  {
   "cell_type": "code",
   "execution_count": 11,
   "metadata": {},
   "outputs": [
    {
     "name": "stdout",
     "output_type": "stream",
     "text": [
      "四元数:\n",
      "x: 0.5\n",
      "y: 0.5\n",
      "z: -0.4999999999999999\n",
      "w: 0.5000000000000001\n"
     ]
    }
   ],
   "source": [
    "import math\n",
    "from geometry_msgs.msg import Pose\n",
    "from tf_transformations import quaternion_from_euler\n",
    "\n",
    "def euler_to_quaternion(roll_deg, pitch_deg, yaw_deg):\n",
    "    \"\"\"\n",
    "    将欧拉角（度）转换为四元数。\n",
    "    \n",
    "    :param roll_deg: 滚转角（度）\n",
    "    :param pitch_deg: 俯仰角（度）\n",
    "    :param yaw_deg: 偏航角（度）\n",
    "    :return: 四元数 (x, y, z, w)\n",
    "    \"\"\"\n",
    "    # 将角度转换为弧度\n",
    "    roll = math.radians(roll_deg)\n",
    "    pitch = math.radians(pitch_deg)\n",
    "    yaw = math.radians(yaw_deg)\n",
    "    \n",
    "    # 使用 tf_transformations 库将欧拉角转换为四元数\n",
    "    q = quaternion_from_euler(roll, pitch, yaw)\n",
    "    \n",
    "    return q  # 返回四元数 (x, y, z, w)\n",
    "\n",
    "def main():\n",
    "    # 示例欧拉角（以度为单位）\n",
    "    roll_deg = 90.0   # 滚转角\n",
    "    pitch_deg = 90.0  # 俯仰角\n",
    "    yaw_deg = 0.0    # 偏航角\n",
    "    \n",
    "    # 转换为四元数\n",
    "    quaternion = euler_to_quaternion(roll_deg, pitch_deg, yaw_deg)\n",
    "    \n",
    "    # 创建一个 Pose 消息并赋值\n",
    "    target_pose = Pose()\n",
    "    target_pose.orientation.x = quaternion[0]\n",
    "    target_pose.orientation.y = quaternion[1]\n",
    "    target_pose.orientation.z = quaternion[2]\n",
    "    target_pose.orientation.w = quaternion[3]\n",
    "    \n",
    "    # 打印结果\n",
    "    print(\"四元数:\")\n",
    "    print(f\"x: {target_pose.orientation.x}\")\n",
    "    print(f\"y: {target_pose.orientation.y}\")\n",
    "    print(f\"z: {target_pose.orientation.z}\")\n",
    "    print(f\"w: {target_pose.orientation.w}\")\n",
    "\n",
    "if __name__ == \"__main__\":\n",
    "    main()\n"
   ]
  },
  {
   "cell_type": "code",
   "execution_count": 8,
   "metadata": {},
   "outputs": [
    {
     "name": "stdout",
     "output_type": "stream",
     "text": [
      "75.4802606087377\n"
     ]
    }
   ],
   "source": [
    "# 输入xy位置获取 roll_deg, pitch_deg, yaw_deg\n",
    "y = 0.946\n",
    "x = 0.245\n",
    "yaw = math.atan(y/x)\n",
    "print(yaw/3.1415926*180)"
   ]
  },
  {
   "cell_type": "code",
   "execution_count": null,
   "metadata": {},
   "outputs": [],
   "source": []
  }
 ],
 "metadata": {
  "kernelspec": {
   "display_name": "Python 3",
   "language": "python",
   "name": "python3"
  },
  "language_info": {
   "codemirror_mode": {
    "name": "ipython",
    "version": 3
   },
   "file_extension": ".py",
   "mimetype": "text/x-python",
   "name": "python",
   "nbconvert_exporter": "python",
   "pygments_lexer": "ipython3",
   "version": "3.10.12"
  }
 },
 "nbformat": 4,
 "nbformat_minor": 2
}
